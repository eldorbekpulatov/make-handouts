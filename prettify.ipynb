{
 "cells": [
  {
   "cell_type": "markdown",
   "metadata": {},
   "source": [
    "# Turns PDF Lecture Notes into HANDOUT format\n"
   ]
  },
  {
   "cell_type": "code",
   "execution_count": 9,
   "metadata": {},
   "outputs": [],
   "source": [
    "# importing required modules \n",
    "from PyPDF2 import PdfFileReader, PdfFileWriter\n",
    "from PyPDF2.pdf import PageObject\n",
    "import math\n",
    "  \n",
    "# creating a pdf file object \n",
    "pdfFileObj = open('/Users/eldorbekpulatov/Downloads/Class3_v2_Fall19_BB.pdf', 'rb') \n",
    "linesFileObj = open('notesField.pdf', 'rb')\n",
    "\n",
    "# creating a pdf Reader objects \n",
    "pdfReader = PdfFileReader(pdfFileObj) \n",
    "pdfLines = PdfFileReader(linesFileObj)\n",
    "\n",
    "# creating a pdf writer object for new pdf \n",
    "pdfWriter = PdfFileWriter() \n",
    "\n",
    "for pageNum in range(math.ceil(pdfReader.numPages/3)):\n",
    "    # create blank page\n",
    "    template_page = PageObject.createBlankPage(None, 850, 1100)\n",
    "    # load the notes field\n",
    "    notesPage = pdfLines.getPage(0)\n",
    "    \n",
    "    # add the pages that go in template\n",
    "    for indx in range(0,3):\n",
    "        pageIdx = pageNum*3+indx\n",
    "        if pageIdx < pdfReader.numPages:\n",
    "            pageObj = pdfReader.getPage(pageIdx)\n",
    "            template_page.mergeScaledTranslatedPage(pageObj, 0.5, 60, 730-(330*indx), False)\n",
    "            template_page.mergeScaledTranslatedPage(notesPage, 1, 480, 760-(330*indx), False)\n",
    "        \n",
    "    # adding template page object to pdf writer \n",
    "    pdfWriter.addPage(template_page) \n",
    "\n",
    "# new pdf file object \n",
    "newFile = open(\"annotated.pdf\", 'wb') \n",
    "# writing the handout to new file \n",
    "pdfWriter.write(newFile) \n",
    "# closing the new pdf file object \n",
    "newFile.close() \n",
    "\n",
    "# closing the original pdf file object \n",
    "pdfFileObj.close() \n",
    "# closing lines pdf file object\n",
    "linesFileObj.close()"
   ]
  },
  {
   "cell_type": "code",
   "execution_count": null,
   "metadata": {},
   "outputs": [],
   "source": []
  },
  {
   "cell_type": "code",
   "execution_count": null,
   "metadata": {},
   "outputs": [],
   "source": []
  }
 ],
 "metadata": {
  "kernelspec": {
   "display_name": "Python 3",
   "language": "python",
   "name": "python3"
  },
  "language_info": {
   "codemirror_mode": {
    "name": "ipython",
    "version": 3
   },
   "file_extension": ".py",
   "mimetype": "text/x-python",
   "name": "python",
   "nbconvert_exporter": "python",
   "pygments_lexer": "ipython3",
   "version": "3.7.3"
  }
 },
 "nbformat": 4,
 "nbformat_minor": 2
}
